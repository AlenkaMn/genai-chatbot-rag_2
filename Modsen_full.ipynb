{
  "nbformat": 4,
  "nbformat_minor": 0,
  "metadata": {
    "colab": {
      "provenance": [],
      "gpuType": "T4"
    },
    "kernelspec": {
      "name": "python3",
      "display_name": "Python 3"
    },
    "language_info": {
      "name": "python"
    },
    "accelerator": "GPU"
  },
  "cells": [
    {
      "cell_type": "code",
      "source": [
        "GROQ_API_KEY = \"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\"\n",
        "\n",
        "PROMPT_TEMPLATE = \"\"\"\n",
        "Ответь на вопрос, основываясь исключительно на предоставленном контексте:\n",
        "\n",
        "{context}\n",
        "\n",
        "---\n",
        "\n",
        "Вопрос к данному контексту: {question}\n",
        "\n",
        "---\n",
        "\n",
        "Приоритетный язык ответа - русский\n",
        "\"\"\""
      ],
      "metadata": {
        "id": "XxucV8-LJBqp"
      },
      "execution_count": 1,
      "outputs": []
    },
    {
      "cell_type": "markdown",
      "source": [
        "# Ollama"
      ],
      "metadata": {
        "id": "pWISLWdi9uFC"
      }
    },
    {
      "cell_type": "code",
      "source": [
        "!curl https://ollama.ai/install.sh | sh"
      ],
      "metadata": {
        "id": "3bBX5CBG9t0t",
        "colab": {
          "base_uri": "https://localhost:8080/"
        },
        "outputId": "78e01969-1014-4d43-a0b6-e38d9785b354"
      },
      "execution_count": 2,
      "outputs": [
        {
          "output_type": "stream",
          "name": "stdout",
          "text": [
            "  % Total    % Received % Xferd  Average Speed   Time    Time     Time  Current\n",
            "                                 Dload  Upload   Total   Spent    Left  Speed\n",
            "  0     0    0     0    0     0      0      0 --:--:-- --:--:-- --:--:--     0>>> Downloading ollama...\n",
            "100 11868    0 11868    0     0  40619      0 --:--:-- --:--:-- --:--:-- 40643\n",
            "############################################################################################# 100.0%\n",
            ">>> Installing ollama to /usr/local/bin...\n",
            ">>> Creating ollama user...\n",
            ">>> Adding ollama user to video group...\n",
            ">>> Adding current user to ollama group...\n",
            ">>> Creating ollama systemd service...\n",
            "WARNING: Unable to detect NVIDIA/AMD GPU. Install lspci or lshw to automatically detect and install GPU dependencies.\n",
            ">>> The Ollama API is now available at 127.0.0.1:11434.\n",
            ">>> Install complete. Run \"ollama\" from the command line.\n"
          ]
        }
      ]
    },
    {
      "cell_type": "code",
      "source": [
        "!nohup ollama serve &"
      ],
      "metadata": {
        "id": "ZJ18qWLN_tgv",
        "colab": {
          "base_uri": "https://localhost:8080/"
        },
        "outputId": "f318044c-b707-4509-8b3b-a68b4366301f"
      },
      "execution_count": 2,
      "outputs": [
        {
          "output_type": "stream",
          "name": "stdout",
          "text": [
            "nohup: appending output to 'nohup.out'\n"
          ]
        }
      ]
    },
    {
      "cell_type": "code",
      "source": [
        "%%capture\n",
        "!ollama pull llama3\n",
        "!ollama pull phi3\n",
        "!ollama pull openhermes\n",
        "\n",
        "!ollama pull snowflake-arctic-embed:137m\n",
        "!ollama pull nomic-embed-text\n",
        "!ollama pull mxbai-embed-large"
      ],
      "metadata": {
        "id": "drRvvF7W_7xY",
        "collapsed": true
      },
      "execution_count": 4,
      "outputs": []
    },
    {
      "cell_type": "code",
      "source": [
        "!ollama list"
      ],
      "metadata": {
        "id": "eAw6ORQxDJnw",
        "colab": {
          "base_uri": "https://localhost:8080/"
        },
        "outputId": "4446a6e6-877a-4411-8f7a-e821957ba35e"
      },
      "execution_count": 3,
      "outputs": [
        {
          "output_type": "stream",
          "name": "stdout",
          "text": [
            "NAME                       \tID          \tSIZE  \tMODIFIED       \n",
            "mxbai-embed-large:latest   \t468836162de7\t669 MB\t22 minutes ago\t\n",
            "nomic-embed-text:latest    \t0a109f422b47\t274 MB\t22 minutes ago\t\n",
            "snowflake-arctic-embed:137m\t12616299a158\t274 MB\t23 minutes ago\t\n",
            "openhermes:latest          \t95477a2659b7\t4.1 GB\t23 minutes ago\t\n",
            "phi3:latest                \t4f2222927938\t2.2 GB\t24 minutes ago\t\n",
            "llama3:latest              \t365c0bd3c000\t4.7 GB\t24 minutes ago\t\n"
          ]
        }
      ]
    },
    {
      "cell_type": "markdown",
      "source": [
        "# Gradio"
      ],
      "metadata": {
        "id": "x_jHuycoJfqd"
      }
    },
    {
      "cell_type": "markdown",
      "source": [
        "### Libraries"
      ],
      "metadata": {
        "id": "94X05g8EJh5F"
      }
    },
    {
      "cell_type": "code",
      "source": [
        "%%capture\n",
        "!pip install gradio\n",
        "\n",
        "!pip install chromadb\n",
        "!pip install python-docx python-dotenv python-pptx\n",
        "!pip install bs4\n",
        "\n",
        "!pip install unstructured\n",
        "!pip install langchain_community langchain_core langchain_text_splitters\n",
        "!pip install langchain_chroma langchain_openai\n",
        "\n",
        "!pip install groq"
      ],
      "metadata": {
        "collapsed": true,
        "id": "a97loBqdEP1u"
      },
      "execution_count": 6,
      "outputs": []
    },
    {
      "cell_type": "markdown",
      "source": [
        "### Imports"
      ],
      "metadata": {
        "id": "iGlFU9XXJl8V"
      }
    },
    {
      "cell_type": "code",
      "source": [
        "import os\n",
        "import shutil\n",
        "\n",
        "import gradio as gr\n",
        "\n",
        "# from langchain_community.vectorstores import Chroma, FAISS\n",
        "from langchain_chroma import Chroma\n",
        "from langchain_community.embeddings.ollama import OllamaEmbeddings\n",
        "\n",
        "from langchain_community.llms.ollama import Ollama\n",
        "\n",
        "from langchain_community.document_loaders import BSHTMLLoader, CSVLoader, JSONLoader, TextLoader\n",
        "from langchain_community.document_loaders.word_document import UnstructuredWordDocumentLoader\n",
        "from langchain_community.document_loaders.excel import UnstructuredExcelLoader\n",
        "from langchain_community.document_loaders.powerpoint import UnstructuredPowerPointLoader\n",
        "from langchain_community.document_loaders.pdf import PyPDFLoader\n",
        "\n",
        "from langchain_core.documents import Document\n",
        "\n",
        "from langchain_text_splitters import RecursiveCharacterTextSplitter\n",
        "\n",
        "from groq import Groq"
      ],
      "metadata": {
        "id": "4WAd7abFEKZl"
      },
      "execution_count": 4,
      "outputs": []
    },
    {
      "cell_type": "markdown",
      "source": [
        "## Main code"
      ],
      "metadata": {
        "id": "wbP8kWcAJoSn"
      }
    },
    {
      "cell_type": "markdown",
      "source": [
        "### Prepare Data"
      ],
      "metadata": {
        "id": "CJM0BU2bMcOA"
      }
    },
    {
      "cell_type": "code",
      "source": [
        "def load_documents(files: list[str]):\n",
        "    documents = []\n",
        "    for file in files:\n",
        "        extension = file.split('.')[-1]\n",
        "        if extension == 'txt':\n",
        "            documents += TextLoader(file).load()\n",
        "        if extension == 'csv':\n",
        "            documents += CSVLoader(file).load()\n",
        "        if extension == 'html':\n",
        "            documents += BSHTMLLoader(file, open_encoding='utf-8').load()\n",
        "        if extension == 'json':\n",
        "            continue\n",
        "            documents += JSONLoader(file, jq_schema='.quiz').load()\n",
        "        if extension == 'pdf':\n",
        "            documents += PyPDFLoader(file).load()\n",
        "        if extension == 'xlsx':\n",
        "            documents += UnstructuredExcelLoader(file).load()\n",
        "        if extension == 'docx':\n",
        "            documents += UnstructuredWordDocumentLoader(file).load()\n",
        "        if extension == 'pptx':\n",
        "            documents += UnstructuredPowerPointLoader(file).load()\n",
        "    return documents\n"
      ],
      "metadata": {
        "id": "a1xqMobBMkpz"
      },
      "execution_count": 5,
      "outputs": []
    },
    {
      "cell_type": "code",
      "source": [
        "def split_documents(documents: list[Document], splitter):\n",
        "    splitter_chunk_size = int(splitter.split(',')[0].split('=')[1].strip())\n",
        "    splitter_chunk_overlap = int(splitter.split(',')[1].split('=')[1].strip())\n",
        "    text_splitter = RecursiveCharacterTextSplitter(\n",
        "        chunk_size=splitter_chunk_size,\n",
        "        chunk_overlap=splitter_chunk_overlap,\n",
        "        length_function=len,\n",
        "        is_separator_regex=False,\n",
        "    )\n",
        "    print(\"[INFO] split_documents\")\n",
        "    print(\"[DEBUG]\", documents)\n",
        "    return text_splitter.split_documents(documents)"
      ],
      "metadata": {
        "id": "mJACc9L3NjzR"
      },
      "execution_count": 6,
      "outputs": []
    },
    {
      "cell_type": "code",
      "source": [
        "def calculate_chunk_ids(chunks):\n",
        "    last_page_id = None\n",
        "    current_chunk_index = 0\n",
        "\n",
        "    for chunk in chunks:\n",
        "        source = chunk.metadata.get(\"source\")\n",
        "        page = chunk.metadata.get(\"page\")\n",
        "        current_page_id = f\"{source}\"\n",
        "        if page:\n",
        "            current_page_id += f\":{page}\"\n",
        "\n",
        "        if current_page_id == last_page_id:\n",
        "            current_chunk_index += 1\n",
        "        else:\n",
        "            current_chunk_index = 0\n",
        "\n",
        "        chunk_id = f\"{current_page_id}:{current_chunk_index}\"\n",
        "        last_page_id = current_page_id\n",
        "\n",
        "        chunk.metadata[\"id\"] = chunk_id\n",
        "    print(\"[INFO] calculate_chunk_ids\")\n",
        "    return chunks"
      ],
      "metadata": {
        "id": "3DGdfNZROUGC"
      },
      "execution_count": 7,
      "outputs": []
    },
    {
      "cell_type": "markdown",
      "source": [
        "### Interface"
      ],
      "metadata": {
        "id": "rtrgS9jdMeaa"
      }
    },
    {
      "cell_type": "code",
      "execution_count": 8,
      "metadata": {
        "id": "epegsAzRD8PN"
      },
      "outputs": [],
      "source": [
        "def process_input(model_name, embeddings, splitter, files, question):\n",
        "    documents = load_documents(files)\n",
        "\n",
        "    chunks = split_documents(documents, splitter)\n",
        "    chunks = calculate_chunk_ids(chunks)\n",
        "    db = Chroma.from_documents(chunks, OllamaEmbeddings(model=embeddings))\n",
        "\n",
        "    results = db.similarity_search_with_score(question, k=5)\n",
        "    context_text = \"\\n\\n---\\n\\n\".join([doc.page_content for doc, _score in results])\n",
        "    prompt = PROMPT_TEMPLATE.format(context=context_text, question=question)\n",
        "    if model_name == \"llama3.1\":\n",
        "        client = Groq(\n",
        "            api_key=GROQ_API_KEY,\n",
        "        )\n",
        "\n",
        "        chat_completion = client.chat.completions.create(\n",
        "            messages=[\n",
        "                {\n",
        "                    \"role\": \"user\",\n",
        "                    \"content\": prompt,\n",
        "                }\n",
        "            ],\n",
        "            model=\"llama3-70b-8192\",\n",
        "        )\n",
        "\n",
        "        return chat_completion.choices[0].message.content\n",
        "    else:\n",
        "        model = Ollama(model=model_name)\n",
        "        response_text = model.invoke(prompt)\n",
        "\n",
        "        return response_text"
      ]
    },
    {
      "cell_type": "code",
      "source": [
        "iface = gr.Interface(fn=process_input,\n",
        "                     inputs=[\n",
        "                         gr.Dropdown(label=\"Model\",\n",
        "                                     choices=[\n",
        "                                         \"llama3\",\n",
        "                                         \"phi3\",\n",
        "                                         \"openhermes\",\n",
        "                                         \"llama3.1\"\n",
        "                                         ],\n",
        "                                     value=\"llama3\"),\n",
        "                         gr.Dropdown(label=\"Embedding\",\n",
        "                                     choices=[\n",
        "                                         \"nomic-embed-text\",\n",
        "                                         \"snowflake-arctic-embed:137m\",\n",
        "                                         \"mxbai-embed-large\"\n",
        "                                         ],\n",
        "                                     value=\"nomic-embed-text\"),\n",
        "                         gr.Dropdown(label=\"Splitter\",\n",
        "                                     choices=[\"chunk_size=1000, chunk_overlap=250\",\n",
        "                                              \"chunk_size=500, chunk_overlap=50\",\n",
        "                                              \"chunk_size=300, chunk_overlap=0\"],\n",
        "                                     value=\"chunk_size=1000, chunk_overlap=250\"),\n",
        "                         gr.Files(file_types=[\"pdf\", \"txt\", \"pptx\", \"csv\", \"html\", \"xlsx\", \"docx\"],\n",
        "                                  label=\"Load files to RAG\"),\n",
        "                         gr.Textbox(label=\"Question\")],\n",
        "                     outputs=\"text\",\n",
        "                     title=\"Document Query with Ollama\",\n",
        "                     description=\"Enter files and a question to query the documents.\")"
      ],
      "metadata": {
        "id": "fAZWAAo2EoaK"
      },
      "execution_count": 9,
      "outputs": []
    },
    {
      "cell_type": "code",
      "source": [
        "iface.launch(share=True, debug=True)\n"
      ],
      "metadata": {
        "id": "-O7KKgWVEqgr",
        "colab": {
          "base_uri": "https://localhost:8080/",
          "height": 1000
        },
        "outputId": "d367ea42-0771-46b8-839d-efa0438ab19b"
      },
      "execution_count": 10,
      "outputs": [
        {
          "output_type": "stream",
          "name": "stdout",
          "text": [
            "Colab notebook detected. This cell will run indefinitely so that you can see errors and logs. To turn off, set debug=False in launch().\n",
            "Running on public URL: https://00e6262a488cd8b539.gradio.live\n",
            "\n",
            "This share link expires in 72 hours. For free permanent hosting and GPU upgrades, run `gradio deploy` from Terminal to deploy to Spaces (https://huggingface.co/spaces)\n"
          ]
        },
        {
          "output_type": "display_data",
          "data": {
            "text/plain": [
              "<IPython.core.display.HTML object>"
            ],
            "text/html": [
              "<div><iframe src=\"https://00e6262a488cd8b539.gradio.live\" width=\"100%\" height=\"500\" allow=\"autoplay; camera; microphone; clipboard-read; clipboard-write;\" frameborder=\"0\" allowfullscreen></iframe></div>"
            ]
          },
          "metadata": {}
        },
        {
          "output_type": "stream",
          "name": "stderr",
          "text": [
            "Traceback (most recent call last):\n",
            "  File \"/usr/local/lib/python3.10/dist-packages/gradio/queueing.py\", line 536, in process_events\n",
            "    response = await route_utils.call_process_api(\n",
            "  File \"/usr/local/lib/python3.10/dist-packages/gradio/route_utils.py\", line 285, in call_process_api\n",
            "    output = await app.get_blocks().process_api(\n",
            "  File \"/usr/local/lib/python3.10/dist-packages/gradio/blocks.py\", line 1923, in process_api\n",
            "    result = await self.call_function(\n",
            "  File \"/usr/local/lib/python3.10/dist-packages/gradio/blocks.py\", line 1508, in call_function\n",
            "    prediction = await anyio.to_thread.run_sync(  # type: ignore\n",
            "  File \"/usr/local/lib/python3.10/dist-packages/anyio/to_thread.py\", line 33, in run_sync\n",
            "    return await get_asynclib().run_sync_in_worker_thread(\n",
            "  File \"/usr/local/lib/python3.10/dist-packages/anyio/_backends/_asyncio.py\", line 877, in run_sync_in_worker_thread\n",
            "    return await future\n",
            "  File \"/usr/local/lib/python3.10/dist-packages/anyio/_backends/_asyncio.py\", line 807, in run\n",
            "    result = context.run(func, *args)\n",
            "  File \"/usr/local/lib/python3.10/dist-packages/gradio/utils.py\", line 818, in wrapper\n",
            "    response = f(*args, **kwargs)\n",
            "  File \"<ipython-input-8-a62a6dc75309>\", line 2, in process_input\n",
            "    documents = load_documents(files)\n",
            "  File \"<ipython-input-5-6e78eee6cf9d>\", line 19, in load_documents\n",
            "    documents += UnstructuredWordDocumentLoader(file).load()\n",
            "  File \"/usr/local/lib/python3.10/dist-packages/langchain_core/document_loaders/base.py\", line 30, in load\n",
            "    return list(self.lazy_load())\n",
            "  File \"/usr/local/lib/python3.10/dist-packages/langchain_community/document_loaders/unstructured.py\", line 107, in lazy_load\n",
            "    elements = self._get_elements()\n",
            "  File \"/usr/local/lib/python3.10/dist-packages/langchain_community/document_loaders/word_document.py\", line 126, in _get_elements\n",
            "    return partition_docx(filename=self.file_path, **self.unstructured_kwargs)\n",
            "  File \"/usr/local/lib/python3.10/dist-packages/unstructured/documents/elements.py\", line 593, in wrapper\n",
            "    elements = func(*args, **kwargs)\n",
            "  File \"/usr/local/lib/python3.10/dist-packages/unstructured/file_utils/filetype.py\", line 429, in wrapper\n",
            "    elements = func(*args, **kwargs)\n",
            "  File \"/usr/local/lib/python3.10/dist-packages/unstructured/file_utils/filetype.py\", line 385, in wrapper\n",
            "    elements = func(*args, **kwargs)\n",
            "  File \"/usr/local/lib/python3.10/dist-packages/unstructured/chunking/dispatch.py\", line 74, in wrapper\n",
            "    elements = func(*args, **kwargs)\n",
            "  File \"/usr/local/lib/python3.10/dist-packages/unstructured/partition/docx.py\", line 161, in partition_docx\n",
            "    opts = DocxPartitionerOptions.load(\n",
            "  File \"/usr/local/lib/python3.10/dist-packages/unstructured/partition/docx.py\", line 223, in load\n",
            "    return cls(**kwargs)._validate()\n",
            "  File \"/usr/local/lib/python3.10/dist-packages/unstructured/partition/docx.py\", line 379, in _validate\n",
            "    raise ValueError(f\"not a ZIP archive (so not a DOCX file): {repr(self._file_path)}\")\n",
            "ValueError: not a ZIP archive (so not a DOCX file): '/tmp/gradio/da39a3ee5e6b4b0d3255bfef95601890afd80709/Mystic.docx'\n"
          ]
        },
        {
          "output_type": "stream",
          "name": "stdout",
          "text": [
            "[INFO] split_documents\n",
            "[DEBUG] [Document(metadata={'source': '/tmp/gradio/fb2317df183e37326b8378b7f120141680104372/Mystic.docx'}, page_content='An unofficial resurrection and reconstruction\\n\\nof the iconic psionic class option.\\n\\nSupernatural, not Magical\\n\\nAlways Free\\n\\nProof of Concept\\n\\nRespectful of Class Identity\\n\\nReducing the Bookkeeping\\n\\nCredits\\n\\nConsultants\\n\\nContents\\n\\nFonts\\n\\nDungeons & Dragons Legal Information\\n\\nHit Points\\n\\nProficiencies\\n\\nCreating a Mystic\\n\\nEquipment\\n\\nQuick Build\\n\\nConcentration\\n\\nPsionic Talents Known\\n\\nSpells as Psionic Talents\\n\\nPsionic Ability\\n\\nPsionic Ability Modifier\\n\\nPsionic save DC = 8 + your proficiency bonus + your Wisdom\\n\\nmodifier\\n\\nPsionic attack modifier = your proficiency bonus + your Wisdom\\n\\nmodifier\\n\\nOrder Talents\\n\\nDeathspeaker\\n\\nSpirit Consort\\n\\nExtrasensory Investigation\\n\\nSoul Sanctum\\tOrder Talents\\n\\nForeteller\\n\\nImmortal Will\\n\\nSecond Sight\\n\\nBreadth of Knowledge\\n\\nPrescience\\n\\nPsionic Ability Modifier\\n\\nPsionic save DC = 8 + your proficiency bonus + your Wisdom modifier\\n\\nPsionic attack modifier = your proficiency bonus + your Wisdom modifier\\n\\nDefiner of Destinies\\n\\nEffortless Journey\\n\\nThought Form\\n\\nPsionic Ability Modifier\\n\\nPsionic save DC = 8 + your proficiency bonus + your Intelligence modifier\\n\\nPsionic attack modifier = your proficiency bonus + your Intelligence modifier\\n\\nAvatar of Speed\\n\\nOrder Talents\\n\\nTeleportation\\n\\nFury Manifest\\n\\nTrue Horror\\n\\nBlaze of the Black Heart\\n\\nPsionic Ability Modifier\\n\\nMalice Manifest\\n\\nPsionic save DC = 8 + your proficiency bonus + your Charisma\\n\\nmodifier\\t\\n\\nPsionic attack modifier = your proficiency bonus + your Charisma modifier\\n\\nOrder Talents\\n\\nDisquieting Minds\\n\\nClairvoyance\\n\\nAcceleration\\n\\nCompel\\n\\nAddle\\t\\n\\nAgonizing Strike\\n\\nAll-Seeing Eye\\n\\nCastigation\\n\\nComprehension\\n\\nDeceleration\\n\\nEmpath\\n\\nExtra Attack\\n\\nMass Hysteria\\n\\nEmpowered Leap\\n\\nHealing Touch\\n\\nMind Sliver\\n\\nSomnium\\n\\nIntellect Fortress\\n\\nForce Field\\n\\nMind Tap\\n\\nMind Thrust\\n\\nMind Trick\\n\\nPuppeteer\\n\\nPsionic Wave\\n\\nRecall\\n\\nReflect\\n\\nRend Mind\\n\\nTelekinesis\\n\\nSoul Knife\\n\\nThought Seize\\n\\nTelekinetic Bulwark\\n\\nTelekinetic Movement\\n\\nTelekinetic Strike\\n\\nThird Eye\\n\\nMonsters\\n\\nSpellcasting\\n\\nConfusion\\n\\nReasons for Confused Condition\\n\\nGeneral\\n\\nBase Class\\n\\nPsionics\\n\\nTransvection\\n\\nSubclasses\\n\\nOrder of the Channeler\\n\\nOrder of the Oracle\\n\\nOrder of Wanton Fury')]\n",
            "[INFO] calculate_chunk_ids\n"
          ]
        },
        {
          "output_type": "stream",
          "name": "stderr",
          "text": [
            "WARNING:chromadb.segment.impl.vector.local_hnsw:Number of requested results 5 is greater than number of elements in index 3, updating n_results = 3\n"
          ]
        },
        {
          "output_type": "stream",
          "name": "stdout",
          "text": [
            "[INFO] split_documents\n",
            "[DEBUG] [Document(metadata={'source': '/tmp/gradio/b6271c750f89acd42251e2fd6ba8b7d3ca6ce25c/Ценообразование.pptx'}, page_content='ЭКОНОМИЧЕСКОЕ СОДЕРЖАНИЕ ЦЕНЫ\\n\\nПроцессы ценообразования оказывают влияние не только на хозяйственные процессы, но и на социальные процессы. Цены оказывают влияние на результаты хозяйственной деятельности предприятия.\\n\\nЦена – это денежное выражение стоимости товара, услуги, выполненной работы.\\n\\nЦенообразование – это процесс установления цены.\\n\\nСуществуют две основные системы ценообразования (система ценообразования включает систему цен и механизм ценообразования): \\n\\nзатратное ценообразование (цена зависит от себестоимости произведен-ной продукции);\\n\\nрыночное ценообразование (цена определяется соотношением спроса и предложения, издержками производства, полезностью, зависит от типа рынка (свободной конкуренции, монополистической конкуренции, др.; цена – это сумма денег, за которую продавец готов продать продукцию, а покупатель – купить). Рыночная цена – это цена, сложившаяся при взаи-модействии спроса и предложения на рынке идентичных (однородных) товаров (работ, услуг). \\n\\nФункции цен: 1) уравновешивающая 2) распределительная, 3) стимулирую-щая, 4) учетно-измерительная, 5) информационная.\\n\\n\\n\\nЭКОНОМИЧЕСКОЕ СОДЕРЖАНИЕ ЦЕНЫ\\n\\nЦена как экономическая категория характеризуется параметрами:\\n\\nУровень (абсолютное количественное значение цены, выраженное в деньгах).\\n\\nДинамика (изменение уровня цены). \\n\\nСтруктура (определенное соотношение элементов цены, выраженное в долях или в %).\\n\\nДиапазон цен (две и более цены, определенные на основе информации о ценах в период, за который проводится исследование). \\n\\nЦена = Себестоимость + Прибыль + Косвенные налоги\\n\\nФакторы ценообразования:\\n\\n1. Внутренние (стоимость производства (себестоимость); способ производст-ва; мобильность производства; особые свойства продукта; жизненный цикл продукта; ориентация на рыночный сегмент; длительность товародвижения; организация сервисного обслуживания; имидж предприятия (репутация); реклама; др.).\\n\\n2. Внешние (обеспеченность региона ресурсами; уровень инфляции; характер спроса; конкуренция; налоговая политика страны; внешнеэкономическая политика страны; государственное регулирование цен; др.).\\n\\n\\n\\nФакторы, влияющие на ценообразование\\n\\nинформационных товаров и услуг\\n\\n\\n\\nметоды ценообразования:\\n\\nзатратный;\\n\\nсредние издержки плюс прибыль; \\n\\nобеспечение безубыточности и целевой прибыли; \\n\\nустановление цены исходя из ощущаемой ценности товара;\\n\\nустановление цены на основе уровня текущих цен;\\n\\n установление цены на основе закрытых торгов; другие.\\n\\nЦель анализа безубыточности – устано-вить, что произойдет с финансовыми ре-зультатами, если определенный уровень производительности или объем производ-ства изменится. Анализ безубыточности производства сводится к расчету точки безубыточности.\\n\\nТочка безубыточности – это такой объем производства и реализации, при котором за счет выручки покрываются все затраты, а прибыль равна нулю.\\n\\n\\n\\nВИДЫ ЦЕН\\n\\n1. В зависимости от стадии товародвижения:\\n\\nотпускная цена предприятия (себестоимость + прибыль + налоги);\\n\\nоптовая цена (отпускная цена + издержки оптовой торговли + прибыль оптовой торговли + налоги);\\n\\nрозничная цена (оптовая цена + торговая надбавка (издержки розничной торговли + прибыль розничной торговли) + налоги).\\n\\n2. По способу установления:\\n\\nсвободные (устанавливаются под воздействием спроса и предложения; продавцы не могут влиять на уровень цен);\\n\\nрегулируемые (регулируются государством);\\n\\nконтрактные.\\n\\n3. Цены товарообменных операций (бартерные цены; применяются в процессе купли-продажи, когда 1 товар (услуга, работа) обмениваются на 2).\\n\\n4. В зависимости от условий поставок:\\n\\nцены в местах производства товаров (в эти цены не включаются транспортные расходы);\\n\\nцены в местах потребления товаров.\\n\\n5. В зависимости от территории действия:\\n\\nединый цены, действующие на территории всей страны;\\n\\nместные цены (региональные).\\n\\n\\n\\nВИДЫ ЦЕН\\n\\n6. В зависимости от принадлежности товара и отрасли экономики:\\n\\nсметные цены (в строительстве);\\n\\nзакупочные цены (оптовые цены на сельскохозяйственную продукцию);\\n\\nтарифы на производственные услуги (энергоснабжение, транспорт, сфера производства);\\n\\nтарифы на непроизводственные услуги (медицина, образование).\\n\\n7. Цены внешнеторгового оборота:\\n\\nмировые цены (формируются в центрах международной торговли);\\n\\nбиржевые цены;\\n\\nаукционные цены;\\n\\nтендерные цены;\\n\\nдемпинговые цены (цены, установленные ниже уровня рыночной цены);\\n\\nтрансфертные цены (внутрифирменная торговля).\\n\\n8. Цены, используемые в учете и статистике:\\n\\nтекущие цены;\\n\\nсопоставимые цены;\\n\\nучетные цены (бухгалтерский учет);\\n\\nпланово-расчетные цены.\\n\\n9. В зависимости от сроков действия:\\n\\nПостоянные цены (устанавливаются на длительный период);\\n\\nСкользящие цены (изменяются в течение срока исполнения договора);\\n\\nСтупенчатые цены (ряд последовательно снижающихся цен с указанием даты введения каждой из них);\\n\\nСезонные цены.\\n\\n\\n\\nСОСТАВ ЦЕНЫ ПО ЭЛЕМЕНТАМ\\n\\nСостав цены характеризуется ее экономическими элементами, выраженными в денежном измерении.\\n\\nСостав цены:\\n\\nСебестоимость: материальные затраты; заработная плата производственных рабочих; отчисления на социальные нужды; амортизационные отчисления; прочие).\\n\\nНормальная предпринимательская прибыль (сумма прибыли, включаемой в цену товара, должна быть такой, чтобы, обеспечить безубыточность деятельности и возможность реализации товара).\\n\\nКосвенные налоги (НДС, акцизы).\\n\\nТаможенные платежи и пошлины по внешнеэкономическим сделкам.\\n\\nОптовая надбавка.\\n\\nТорговая наценка.\\n\\nИздержки обращения торговых организаций включают расходы на грузовые перевозки, оплату труда торговых работников, отчисления на социальные нужды, затраты на содержание помещений и инвентаря, амортизацию основных фондов, отчисления и затраты на ремонт основных средств, расходы на хранение, упаковку товаров, потери товаров при перевозке, др.\\n\\n\\n\\nСОСТАВ ЦЕНЫ ПО ЭЛЕМЕНТАМ\\n\\nПорядок исчисления сумм акцизов по товарам, на которые установлены твердые (специфические) ставки, определяется по формуле:\\n\\nА = О * Са\\n\\nгде О – объект налогообложения (объем продукции в натуральном выражении);  Са – ставка акцизов.\\n\\nПосле формирования отпускной цены НДС рассчитывается по формуле:\\n\\nНДС = (С + П + А) ∙ % НДС : 100.\\n\\nСтавка НДС установлена в размере 20 %, по основным продовольствен-ным товарам и товарам для детей – 10 %. Имеется также ставка 0 %\\n\\n\\n\\nФормирование ОПТУСКНОЙ ЦЕНЫ ОРГАНИЗАЦИИ\\n\\nОтпускные цены определяются производителями самостоятельно на основе:\\n\\nплановых затрат на производство и реализацию товаров, \\n\\nналогов, установленных законодательством, \\n\\nприбыли, определяемой с учетом конъюнктуры рынка.\\n\\nограничений, установленных государственными органами. \\n\\nЦена на обычный товар рассчитывается по формуле:\\n\\nЦ = С + П + НДС,\\n\\nгде С – себестоимость; П – прибыль; НДС – налог на добавленную стоимость.\\n\\nЦена на подакцизный товар рассчитывается по формуле:\\n\\nЦ= С + П + А + НДС,\\n\\nгде А – сумма акциза.\\n\\nОтпускные цены, устанавливаемые производителями, подтверждают-ся экономическими расчетами. \\n\\nВ течение действия установленной цены плановая калькуляция не пересчитывается.\\n\\n\\n\\nФормирование ОПТУСКНОЙ ЦЕНЫ ОРГАНИЗАЦИИ\\n\\nПри формировании цены размер прибыли рассчитывается исходя из планового уровня рентабельности по формуле\\n\\n        \\t   С * Ур\\n\\n\\t         П = ––––––– ,\\n\\n         \\t    100\\n\\nгде П – сумма прибыли при включении в отпускную цену, руб.; Ур – уровень рентабельности, %.\\n\\nРазмер прибыли, включаемой в стоимость товара или услуги, у производителя определяется с учетом конъюнктуры рынка. Он ограничивается при регулировании цен.\\n\\nВ рамках ассортимента рентабельность продукции может изменяться в зависимости от спроса на продукцию, ее социальной значимости.\\n\\n\\n\\nСводный ИНДЕКС ЦЕН ПРОИЗВОДИТЕЛЕЙ ПРОМЫШЛЕННОЙ ПРОДУКЦИИ\\n\\nИндекс цен производителей промышленной продукции – это относительный статистический показатель, характеризующий изменение цен производителей на промышленную продукцию во времени.\\n\\nДля расчета сводного индекса цен производителей используются:\\n\\nиндивидуальные индексы цен производителей по каждому товару (услуге)-представителю;\\n\\nвеса товаров (услуг)-представителей и индексов цен производителей.\\n\\nИсходной информацией для расчета индивидуальных индексов цен про-изводителей являются статистические данные о ценах производителей по форме государственной статистической отчетности 12-цены (производи-телей) «Отчет о ценах производителей промышленной продукции (услуг)».\\n\\n')]\n",
            "[INFO] calculate_chunk_ids\n",
            "[INFO] split_documents\n",
            "[DEBUG] [Document(metadata={'source': '/tmp/gradio/9411f3337d6f2ca15452ecc6adda648ddd173b1a/result.txt'}, page_content='Моего любимого кота зовут просто - Рыжик. Его имя оправдывает его внешность. Я всегда очень любила котов именно солнечного окраса, поэтому завела себе рыжего мини-тигра.\\n\\nРыжику 3 года, он не имеет породы, но это никак не мешает ему быть лучшим котом на свете. Мне нравится его характер - он самовлюблённый, нагловатый, но при этом преданный. Преданный не только мне, но и своему сводному брату Тимуру - других котов Рыжик не воспринимает, и прогоняет злобным шипением.')]\n",
            "[INFO] calculate_chunk_ids\n",
            "[INFO] split_documents\n",
            "[DEBUG] [Document(metadata={'source': '/tmp/gradio/9411f3337d6f2ca15452ecc6adda648ddd173b1a/result.txt'}, page_content='Моего любимого кота зовут просто - Рыжик. Его имя оправдывает его внешность. Я всегда очень любила котов именно солнечного окраса, поэтому завела себе рыжего мини-тигра.\\n\\nРыжику 3 года, он не имеет породы, но это никак не мешает ему быть лучшим котом на свете. Мне нравится его характер - он самовлюблённый, нагловатый, но при этом преданный. Преданный не только мне, но и своему сводному брату Тимуру - других котов Рыжик не воспринимает, и прогоняет злобным шипением.')]\n",
            "[INFO] calculate_chunk_ids\n",
            "[INFO] split_documents\n",
            "[DEBUG] [Document(metadata={'source': '/tmp/gradio/9411f3337d6f2ca15452ecc6adda648ddd173b1a/result.txt'}, page_content='Моего любимого кота зовут просто - Рыжик. Его имя оправдывает его внешность. Я всегда очень любила котов именно солнечного окраса, поэтому завела себе рыжего мини-тигра.\\n\\nРыжику 3 года, он не имеет породы, но это никак не мешает ему быть лучшим котом на свете. Мне нравится его характер - он самовлюблённый, нагловатый, но при этом преданный. Преданный не только мне, но и своему сводному брату Тимуру - других котов Рыжик не воспринимает, и прогоняет злобным шипением.')]\n",
            "[INFO] calculate_chunk_ids\n",
            "[INFO] split_documents\n",
            "[DEBUG] [Document(metadata={'source': '/tmp/gradio/9411f3337d6f2ca15452ecc6adda648ddd173b1a/result.txt'}, page_content='Моего любимого кота зовут просто - Рыжик. Его имя оправдывает его внешность. Я всегда очень любила котов именно солнечного окраса, поэтому завела себе рыжего мини-тигра.\\n\\nРыжику 3 года, он не имеет породы, но это никак не мешает ему быть лучшим котом на свете. Мне нравится его характер - он самовлюблённый, нагловатый, но при этом преданный. Преданный не только мне, но и своему сводному брату Тимуру - других котов Рыжик не воспринимает, и прогоняет злобным шипением.')]\n",
            "[INFO] calculate_chunk_ids\n",
            "Keyboard interruption in main thread... closing server.\n",
            "Killing tunnel 127.0.0.1:7860 <> https://00e6262a488cd8b539.gradio.live\n"
          ]
        },
        {
          "output_type": "execute_result",
          "data": {
            "text/plain": []
          },
          "metadata": {},
          "execution_count": 10
        }
      ]
    },
    {
      "cell_type": "code",
      "source": [],
      "metadata": {
        "id": "4qllPhVYJ4zY"
      },
      "execution_count": 10,
      "outputs": []
    }
  ]
}